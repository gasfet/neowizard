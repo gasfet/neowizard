{
 "cells": [
  {
   "cell_type": "code",
   "execution_count": 3,
   "metadata": {
    "collapsed": false,
    "jupyter": {
     "outputs_hidden": false
    }
   },
   "outputs": [],
   "source": [
    "import numpy as np\n",
    "\n",
    "# 수치미분 함수\n",
    "\n",
    "def numerical_derivative(f, x):\n",
    "    delta_x = 1e-4 # 0.0001\n",
    "    grad = np.zeros_like(x)\n",
    "    \n",
    "    it = np.nditer(x, flags=['multi_index'], op_flags=['readwrite'])\n",
    "    \n",
    "    while not it.finished:\n",
    "        idx = it.multi_index        \n",
    "        tmp_val = x[idx]\n",
    "        x[idx] = float(tmp_val) + delta_x\n",
    "        fx1 = f(x) # f(x+delta_x)\n",
    "        \n",
    "        x[idx] = tmp_val - delta_x \n",
    "        fx2 = f(x) # f(x-delta_x)\n",
    "        grad[idx] = (fx1 - fx2) / (2*delta_x)\n",
    "        \n",
    "        x[idx] = tmp_val \n",
    "        it.iternext()   \n",
    "        \n",
    "    return grad\n",
    "\n",
    "# sigmoid 함수\n",
    "\n",
    "def sigmoid(x):\n",
    "    return 1 / (1+np.exp(-x))"
   ]
  },
  {
   "cell_type": "code",
   "execution_count": 21,
   "metadata": {},
   "outputs": [],
   "source": [
    "class LogicGate:\n",
    "        \n",
    "    def __init__(self, gate_name, xdata, tdata):\n",
    "        \n",
    "        self.name = gate_name\n",
    "        \n",
    "        # 입력 데이터, 정답 데이터 초기화\n",
    "        self.__xdata = xdata.reshape(4,2)  # 4개의 입력데이터 x1, x2 에 대하여 batch 처리 행렬\n",
    "        self.__tdata = tdata.reshape(4,1)  # 4개의 입력데이터 x1, x2 에 대한 각각의 계산 값 행렬\n",
    "        \n",
    "        # 2층 hidden layer unit : 6개 가정,  가중치 W2, 바이어스 b2 초기화\n",
    "        self.__W2 = np.random.rand(2,6)  # weight, 2 X 6 matrix\n",
    "        self.__b2 = np.random.rand(6)\n",
    "        \n",
    "        # 3층 output layer unit : 1 개 , 가중치 W3, 바이어스 b3 초기화\n",
    "        self.__W3 = np.random.rand(6,1)\n",
    "        self.__b3 = np.random.rand(1)\n",
    "                        \n",
    "        # 학습률 learning rate 초기화\n",
    "        self.__learning_rate = 1e-2\n",
    "    \n",
    "        print(self.name + \" object is created\")\n",
    "            \n",
    "    def feed_forward(self):        # feed forward 를 통하여 손실함수(cross-entropy) 값 계산\n",
    "        \n",
    "        delta = 1e-7    # log 무한대 발산 방지\n",
    "    \n",
    "        z2 = np.dot(self.__xdata, self.__W2) + self.__b2  # 은닉층의 선형회귀 값\n",
    "        a2 = sigmoid(z2)                                  # 은닉층의 출력\n",
    "        \n",
    "        z3 = np.dot(a2, self.__W3) + self.__b3            # 출력층의 선형회귀 값\n",
    "        y = a3 = sigmoid(z3)                              # 출력층의 출력\n",
    "    \n",
    "        # cross-entropy \n",
    "        return  -np.sum( self.__tdata*np.log(y + delta) + (1-self.__tdata)*np.log((1 - y)+delta ) )    \n",
    "    \n",
    "    def loss_val(self):          # 외부 출력을 위한 손실함수(cross-entropy) 값 계산 \n",
    "        \n",
    "        delta = 1e-7    # log 무한대 발산 방지\n",
    "    \n",
    "        z2 = np.dot(self.__xdata, self.__W2) + self.__b2  # 은닉층의 선형회귀 값\n",
    "        a2 = sigmoid(z2)                                  # 은닉층의 출력\n",
    "        \n",
    "        z3 = np.dot(a2, self.__W3) + self.__b3            # 출력층의 선형회귀 값\n",
    "        y = a3 = sigmoid(z3)                              # 출력층의 출력\n",
    "    \n",
    "        # cross-entropy \n",
    "        return  -np.sum( self.__tdata*np.log(y + delta) + (1-self.__tdata)*np.log((1 - y)+delta ) )\n",
    "    \n",
    "    \n",
    "    # 수치미분을 이용하여 손실함수가 최소가 될때 까지 학습하는 함수\n",
    "    def train(self):\n",
    "        \n",
    "        f = lambda x : self.feed_forward()\n",
    "        \n",
    "        print(\"Initial loss value = \", self.loss_val())\n",
    "        \n",
    "        for step in  range(10001):\n",
    "            \n",
    "            self.__W2 -= self.__learning_rate * numerical_derivative(f, self.__W2)\n",
    "    \n",
    "            self.__b2 -= self.__learning_rate * numerical_derivative(f, self.__b2)\n",
    "        \n",
    "            self.__W3 -= self.__learning_rate * numerical_derivative(f, self.__W3)\n",
    "    \n",
    "            self.__b3 -= self.__learning_rate * numerical_derivative(f, self.__b3)\n",
    "    \n",
    "            if (step % 400 == 0):\n",
    "                print(\"step = \", step, \"  , loss value = \", self.loss_val())\n",
    "                \n",
    "    \n",
    "    # query, 즉 미래 값 예측 함수\n",
    "    def predict(self, xdata):\n",
    "        \n",
    "        z2 = np.dot(xdata, self.__W2) + self.__b2         # 은닉층의 선형회귀 값\n",
    "        a2 = sigmoid(z2)                                  # 은닉층의 출력\n",
    "        \n",
    "        z3 = np.dot(a2, self.__W3) + self.__b3            # 출력층의 선형회귀 값\n",
    "        y = a3 = sigmoid(z3)                              # 출력층의 출력\n",
    "    \n",
    "        if y > 0.5:\n",
    "            result = 1  # True\n",
    "        else:\n",
    "            result = 0  # False\n",
    "    \n",
    "        return y, result"
   ]
  },
  {
   "cell_type": "code",
   "execution_count": 24,
   "metadata": {
    "collapsed": false,
    "jupyter": {
     "outputs_hidden": false
    }
   },
   "outputs": [
    {
     "name": "stdout",
     "output_type": "stream",
     "text": [
      "AND object is created\n",
      "Initial loss value =  9.594292582848226\n",
      "step =  0   , loss value =  5.408966979296102\n",
      "step =  400   , loss value =  0.3410621744084914\n",
      "step =  800   , loss value =  0.07489812716418105\n",
      "step =  1200   , loss value =  0.036617302310881686\n",
      "step =  1600   , loss value =  0.02325918601981627\n",
      "step =  2000   , loss value =  0.01672645099584845\n",
      "step =  2400   , loss value =  0.012922250892195659\n",
      "step =  2800   , loss value =  0.010457889307549902\n",
      "step =  3200   , loss value =  0.008742749329181483\n",
      "step =  3600   , loss value =  0.007485901102923723\n",
      "step =  4000   , loss value =  0.0065284383334366595\n",
      "step =  4400   , loss value =  0.005776636276509629\n",
      "step =  4800   , loss value =  0.005171830559987888\n",
      "step =  5200   , loss value =  0.004675520668764888\n",
      "step =  5600   , loss value =  0.004261443362562397\n",
      "step =  6000   , loss value =  0.0039110976106694235\n",
      "step =  6400   , loss value =  0.003611091447089505\n",
      "step =  6800   , loss value =  0.003351502932606485\n",
      "step =  7200   , loss value =  0.003124831440932508\n",
      "step =  7600   , loss value =  0.0029253060150711105\n",
      "step =  8000   , loss value =  0.002748417001617795\n",
      "step =  8400   , loss value =  0.0025905914202272676\n",
      "step =  8800   , loss value =  0.002448963267358234\n",
      "step =  9200   , loss value =  0.0023212079691413657\n",
      "step =  9600   , loss value =  0.002205421075641415\n",
      "step =  10000   , loss value =  0.0021000280332601285\n"
     ]
    }
   ],
   "source": [
    "# AND Gate 객체 생성 및 training\n",
    "\n",
    "xdata = np.array([ [0, 0], [0, 1], [1, 0], [1, 1] ])\n",
    "tdata = np.array([0, 0, 0, 1])\n",
    "\n",
    "and_obj = LogicGate(\"AND\", xdata, tdata)\n",
    "\n",
    "and_obj.train()"
   ]
  },
  {
   "cell_type": "code",
   "execution_count": 6,
   "metadata": {
    "collapsed": false,
    "jupyter": {
     "outputs_hidden": false
    }
   },
   "outputs": [
    {
     "name": "stdout",
     "output_type": "stream",
     "text": [
      "(array([0.00028802]), 0)\n",
      "(array([0.01353927]), 0)\n",
      "(array([0.01328693]), 0)\n",
      "(array([0.97562853]), 1)\n"
     ]
    }
   ],
   "source": [
    "# AND Gate prediction\n",
    "\n",
    "test_data = np.array([ [0, 0], [0, 1], [1, 0], [1, 1] ])\n",
    "\n",
    "for data in test_data:\n",
    "    print(and_obj.predict(data))"
   ]
  },
  {
   "cell_type": "code",
   "execution_count": 25,
   "metadata": {
    "collapsed": false,
    "jupyter": {
     "outputs_hidden": false
    }
   },
   "outputs": [
    {
     "name": "stdout",
     "output_type": "stream",
     "text": [
      "OR object is created\n",
      "Initial loss value =  3.64506356908067\n",
      "step =  0   , loss value =  3.2254123181685186\n",
      "step =  400   , loss value =  0.19341120407926238\n",
      "step =  800   , loss value =  0.052115670649982127\n",
      "step =  1200   , loss value =  0.027544187097935727\n",
      "step =  1600   , loss value =  0.018177010937124597\n",
      "step =  2000   , loss value =  0.013372140258897644\n",
      "step =  2400   , loss value =  0.010488900260494838\n",
      "step =  2800   , loss value =  0.008582051670635226\n",
      "step =  3200   , loss value =  0.007234584439586986\n",
      "step =  3600   , loss value =  0.0062355598684240765\n",
      "step =  4000   , loss value =  0.005467408782892968\n",
      "step =  4400   , loss value =  0.004859670542032433\n",
      "step =  4800   , loss value =  0.004367666360074979\n",
      "step =  5200   , loss value =  0.003961756954587237\n",
      "step =  5600   , loss value =  0.003621539274278652\n",
      "step =  6000   , loss value =  0.003332528206656356\n",
      "step =  6400   , loss value =  0.0030841677436738335\n",
      "step =  6800   , loss value =  0.002868590722392154\n",
      "step =  7200   , loss value =  0.0026798187072727894\n",
      "step =  7600   , loss value =  0.0025132304529447416\n",
      "step =  8000   , loss value =  0.00236519962510402\n",
      "step =  8400   , loss value =  0.002232842241369638\n",
      "step =  8800   , loss value =  0.0021138370341882307\n",
      "step =  9200   , loss value =  0.0020062953676956265\n",
      "step =  9600   , loss value =  0.0019086655061206074\n",
      "step =  10000   , loss value =  0.001819661126296598\n"
     ]
    }
   ],
   "source": [
    "# OR Gate 객체 생성 및 training\n",
    "\n",
    "xdata = np.array([ [0, 0], [0, 1], [1, 0], [1, 1] ])\n",
    "tdata = np.array([0, 1, 1, 1])\n",
    "\n",
    "or_obj = LogicGate(\"OR\", xdata, tdata)\n",
    "\n",
    "or_obj.train()"
   ]
  },
  {
   "cell_type": "code",
   "execution_count": 8,
   "metadata": {
    "collapsed": false,
    "jupyter": {
     "outputs_hidden": false
    }
   },
   "outputs": [
    {
     "name": "stdout",
     "output_type": "stream",
     "text": [
      "(array([0.027623]), 0)\n",
      "(array([0.99170146]), 1)\n",
      "(array([0.99154031]), 1)\n",
      "(array([0.99953083]), 1)\n"
     ]
    }
   ],
   "source": [
    "# OR Gate prediction\n",
    "\n",
    "test_data = np.array([ [0, 0], [0, 1], [1, 0], [1, 1] ])\n",
    "\n",
    "for data in test_data:\n",
    "    print(or_obj.predict(data))"
   ]
  },
  {
   "cell_type": "code",
   "execution_count": 9,
   "metadata": {
    "collapsed": false,
    "jupyter": {
     "outputs_hidden": false
    }
   },
   "outputs": [
    {
     "name": "stdout",
     "output_type": "stream",
     "text": [
      "NAND object is created\n",
      "Initial loss value =  3.4050465991307632\n",
      "step =  0   , loss value =  3.372429723259125\n",
      "step =  400   , loss value =  2.2833001674774285\n",
      "step =  800   , loss value =  2.1702740005041115\n",
      "step =  1200   , loss value =  1.9673014462732785\n",
      "step =  1600   , loss value =  1.608557720202307\n",
      "step =  2000   , loss value =  1.2133660782698854\n",
      "step =  2400   , loss value =  0.8995077430521554\n",
      "step =  2800   , loss value =  0.6669134080093537\n",
      "step =  3200   , loss value =  0.49983421535037564\n",
      "step =  3600   , loss value =  0.3821648200982537\n",
      "step =  4000   , loss value =  0.2993675255690563\n",
      "step =  4400   , loss value =  0.24032504776015534\n",
      "step =  4800   , loss value =  0.19734185954338374\n",
      "step =  5200   , loss value =  0.16531823801771464\n",
      "step =  5600   , loss value =  0.14090909991249173\n",
      "step =  6000   , loss value =  0.12190380918790747\n",
      "step =  6400   , loss value =  0.10681780900528323\n",
      "step =  6800   , loss value =  0.09463441275915727\n",
      "step =  7200   , loss value =  0.08464292138277371\n",
      "step =  7600   , loss value =  0.07633644525084599\n",
      "step =  8000   , loss value =  0.06934650104050905\n",
      "step =  8400   , loss value =  0.06340042013074534\n",
      "step =  8800   , loss value =  0.05829309860512152\n",
      "step =  9200   , loss value =  0.05386791265231175\n",
      "step =  9600   , loss value =  0.050003594506972344\n",
      "step =  10000   , loss value =  0.046605053333015234\n"
     ]
    }
   ],
   "source": [
    "# NAND Gate 객체 생성 및 training\n",
    "\n",
    "xdata = np.array([ [0, 0], [0, 1], [1, 0], [1, 1] ])\n",
    "tdata = np.array([1, 1, 1, 0])\n",
    "\n",
    "nand_obj = LogicGate(\"NAND\", xdata, tdata)\n",
    "\n",
    "nand_obj.train()"
   ]
  },
  {
   "cell_type": "code",
   "execution_count": 10,
   "metadata": {
    "collapsed": false,
    "jupyter": {
     "outputs_hidden": false
    }
   },
   "outputs": [
    {
     "name": "stdout",
     "output_type": "stream",
     "text": [
      "(array([0.99996147]), 1)\n",
      "(array([0.98900145]), 1)\n",
      "(array([0.98857056]), 1)\n",
      "(array([0.02372619]), 0)\n"
     ]
    }
   ],
   "source": [
    "# NAND Gate prediction\n",
    "\n",
    "test_data = np.array([ [0, 0], [0, 1], [1, 0], [1, 1] ])\n",
    "\n",
    "for data in test_data:\n",
    "    print(nand_obj.predict(data))"
   ]
  },
  {
   "cell_type": "code",
   "execution_count": 22,
   "metadata": {
    "collapsed": false,
    "jupyter": {
     "outputs_hidden": false
    }
   },
   "outputs": [
    {
     "name": "stdout",
     "output_type": "stream",
     "text": [
      "XOR object is created\n",
      "Initial loss value =  11.552758598216355\n",
      "step =  0   , loss value =  8.919375354940893\n",
      "step =  400   , loss value =  2.4825312535316404\n",
      "step =  800   , loss value =  1.046478422075064\n",
      "step =  1200   , loss value =  0.2829775631811242\n",
      "step =  1600   , loss value =  0.12999737965940356\n",
      "step =  2000   , loss value =  0.07869781156275307\n",
      "step =  2400   , loss value =  0.05460314976793281\n",
      "step =  2800   , loss value =  0.04101062365437634\n",
      "step =  3200   , loss value =  0.032431941432762665\n",
      "step =  3600   , loss value =  0.026593004051715944\n",
      "step =  4000   , loss value =  0.022397055276337095\n",
      "step =  4400   , loss value =  0.019255672040427607\n",
      "step =  4800   , loss value =  0.016827239083050834\n",
      "step =  5200   , loss value =  0.014900982646730019\n",
      "step =  5600   , loss value =  0.013340401184885154\n",
      "step =  6000   , loss value =  0.012053527977413214\n",
      "step =  6400   , loss value =  0.010976327774629657\n",
      "step =  6800   , loss value =  0.010062954496310962\n",
      "step =  7200   , loss value =  0.009279791327056771\n",
      "step =  7600   , loss value =  0.008601672762271338\n",
      "step =  8000   , loss value =  0.008009415138653591\n",
      "step =  8400   , loss value =  0.0074881586396345215\n",
      "step =  8800   , loss value =  0.007026227550296924\n",
      "step =  9200   , loss value =  0.006614330187377605\n",
      "step =  9600   , loss value =  0.006244986656966734\n",
      "step =  10000   , loss value =  0.005912112611985874\n"
     ]
    }
   ],
   "source": [
    "# XOR Gate 객체 생성\n",
    "\n",
    "xdata = np.array([ [0, 0], [0, 1], [1, 0], [1, 1] ])\n",
    "tdata = np.array([0, 1, 1, 0])\n",
    "\n",
    "\n",
    "xor_obj = LogicGate(\"XOR\", xdata, tdata)\n",
    "\n",
    "xor_obj.train()"
   ]
  },
  {
   "cell_type": "code",
   "execution_count": 23,
   "metadata": {
    "collapsed": false,
    "jupyter": {
     "outputs_hidden": false
    }
   },
   "outputs": [
    {
     "name": "stdout",
     "output_type": "stream",
     "text": [
      "(array([0.00052049]), 0)\n",
      "(array([0.99814398]), 1)\n",
      "(array([0.99870038]), 1)\n",
      "(array([0.00223118]), 0)\n"
     ]
    }
   ],
   "source": [
    "test_data = np.array([ [0, 0], [0, 1], [1, 0], [1, 1] ])\n",
    "\n",
    "for data in test_data:\n",
    "    print(xor_obj.predict(data))"
   ]
  },
  {
   "cell_type": "code",
   "execution_count": null,
   "metadata": {
    "collapsed": true,
    "jupyter": {
     "outputs_hidden": true
    }
   },
   "outputs": [],
   "source": []
  }
 ],
 "metadata": {
  "anaconda-cloud": {},
  "kernelspec": {
   "display_name": "Python 3 (ipykernel)",
   "language": "python",
   "name": "python3"
  },
  "language_info": {
   "codemirror_mode": {
    "name": "ipython",
    "version": 3
   },
   "file_extension": ".py",
   "mimetype": "text/x-python",
   "name": "python",
   "nbconvert_exporter": "python",
   "pygments_lexer": "ipython3",
   "version": "3.12.7"
  }
 },
 "nbformat": 4,
 "nbformat_minor": 4
}
