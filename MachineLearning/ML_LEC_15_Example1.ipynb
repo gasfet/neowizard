{
 "cells": [
  {
   "cell_type": "code",
   "execution_count": 1,
   "metadata": {
    "collapsed": false,
    "jupyter": {
     "outputs_hidden": false
    }
   },
   "outputs": [
    {
     "name": "stdout",
     "output_type": "stream",
     "text": [
      "x_data.shape =  (5, 1) , t_data.shape =  (5, 1)\n"
     ]
    }
   ],
   "source": [
    "import numpy as np\n",
    "\n",
    "x_data = np.array([1, 2, 3, 4, 5]).reshape(5,1)\n",
    "t_data = np.array([2, 3, 4, 5, 6]).reshape(5,1) \n",
    "\n",
    "# raw_data = [ [1, 2], [2, 3], [3, 4], [4, 5], [5, 6] ]\n",
    "\n",
    "print(\"x_data.shape = \", x_data.shape, \", t_data.shape = \", t_data.shape)"
   ]
  },
  {
   "cell_type": "code",
   "execution_count": 2,
   "metadata": {
    "collapsed": false,
    "jupyter": {
     "outputs_hidden": false
    }
   },
   "outputs": [
    {
     "name": "stdout",
     "output_type": "stream",
     "text": [
      "W =  [[0.91031772]] , W.shape =  (1, 1) , b =  [0.14414454] , b.shape =  (1,)\n"
     ]
    }
   ],
   "source": [
    "W = np.random.rand(1,1)  \n",
    "b = np.random.rand(1)  \n",
    "print(\"W = \", W, \", W.shape = \", W.shape, \", b = \", b, \", b.shape = \", b.shape)"
   ]
  },
  {
   "cell_type": "code",
   "execution_count": 3,
   "metadata": {},
   "outputs": [],
   "source": [
    "def loss_func(x, t):\n",
    "    y = np.dot(x,W) + b\n",
    "    \n",
    "    return ( np.sum( (t - y)**2 ) ) / ( len(x) )"
   ]
  },
  {
   "cell_type": "code",
   "execution_count": 4,
   "metadata": {},
   "outputs": [],
   "source": [
    "def numerical_derivative(f, x):\n",
    "    delta_x = 1e-4 # 0.0001\n",
    "    grad = np.zeros_like(x)\n",
    "    \n",
    "    it = np.nditer(x, flags=['multi_index'], op_flags=['readwrite'])\n",
    "    \n",
    "    while not it.finished:\n",
    "        idx = it.multi_index        \n",
    "        tmp_val = x[idx]\n",
    "        x[idx] = float(tmp_val) + delta_x\n",
    "        fx1 = f(x) # f(x+delta_x)\n",
    "        \n",
    "        x[idx] = tmp_val - delta_x \n",
    "        fx2 = f(x) # f(x-delta_x)\n",
    "        grad[idx] = (fx1 - fx2) / (2*delta_x)\n",
    "        \n",
    "        x[idx] = tmp_val \n",
    "        it.iternext()   \n",
    "        \n",
    "    return grad"
   ]
  },
  {
   "cell_type": "code",
   "execution_count": 5,
   "metadata": {},
   "outputs": [],
   "source": [
    "# 손실함수 값 계산 함수\n",
    "# 입력변수 x, t : numpy type\n",
    "def error_val(x, t):\n",
    "    y = np.dot(x,W) + b\n",
    "    \n",
    "    return ( np.sum( (t - y)**2 ) ) / ( len(x) )\n",
    "\n",
    "# 학습을 마친 후, 임의의 데이터에 대해 미래 값 예측 함수\n",
    "# 입력변수 x : numpy type\n",
    "def predict(x):\n",
    "    y = np.dot(x,W) + b\n",
    "    \n",
    "    return y"
   ]
  },
  {
   "cell_type": "code",
   "execution_count": 6,
   "metadata": {
    "collapsed": false,
    "jupyter": {
     "outputs_hidden": false
    }
   },
   "outputs": [
    {
     "name": "stdout",
     "output_type": "stream",
     "text": [
      "Initial error value =  1.2814910054961621 Initial W =  [[0.91031772]] \n",
      " , b =  [0.14414454]\n",
      "step =  0 error value =  0.79889994866069 W =  [[0.98139915]] , b =  [0.1623777]\n",
      "step =  400 error value =  0.0071845816437587934 W =  [[1.05504241]] , b =  [0.80132806]\n",
      "step =  800 error value =  0.00045841878392324195 W =  [[1.01390362]] , b =  [0.9498158]\n",
      "step =  1200 error value =  2.9249828573698694e-05 W =  [[1.00351203]] , b =  [0.98732356]\n",
      "step =  1600 error value =  1.8663119871932897e-06 W =  [[1.00088713]] , b =  [0.99679795]\n",
      "step =  2000 error value =  1.1908173836876651e-07 W =  [[1.00022409]] , b =  [0.99919117]\n",
      "step =  2400 error value =  7.59811891596395e-09 W =  [[1.0000566]] , b =  [0.99979569]\n",
      "step =  2800 error value =  4.84804906710781e-10 W =  [[1.0000143]] , b =  [0.99994839]\n",
      "step =  3200 error value =  3.093341920524868e-11 W =  [[1.00000361]] , b =  [0.99998696]\n",
      "step =  3600 error value =  1.973735021629974e-12 W =  [[1.00000091]] , b =  [0.99999671]\n",
      "step =  4000 error value =  1.2593596318140943e-13 W =  [[1.00000023]] , b =  [0.99999917]\n",
      "step =  4400 error value =  8.035458947915675e-15 W =  [[1.00000006]] , b =  [0.99999979]\n",
      "step =  4800 error value =  5.127097871176658e-16 W =  [[1.00000001]] , b =  [0.99999995]\n",
      "step =  5200 error value =  3.2713914485594364e-17 W =  [[1.]] , b =  [0.99999999]\n",
      "step =  5600 error value =  2.0873418810426212e-18 W =  [[1.]] , b =  [1.]\n",
      "step =  6000 error value =  1.3318457246819698e-19 W =  [[1.]] , b =  [1.]\n",
      "step =  6400 error value =  8.497988705975454e-21 W =  [[1.]] , b =  [1.]\n",
      "step =  6800 error value =  5.422151620693041e-22 W =  [[1.]] , b =  [1.]\n",
      "step =  7200 error value =  3.460197478082905e-23 W =  [[1.]] , b =  [1.]\n",
      "step =  7600 error value =  2.210154329588593e-24 W =  [[1.]] , b =  [1.]\n",
      "step =  8000 error value =  1.415163314463006e-25 W =  [[1.]] , b =  [1.]\n"
     ]
    }
   ],
   "source": [
    "learning_rate = 1e-2  # 발산하는 경우, 1e-3 ~ 1e-6 등으로 바꾸어서 실행\n",
    "\n",
    "f = lambda x : loss_func(x_data,t_data)\n",
    "\n",
    "print(\"Initial error value = \", error_val(x_data, t_data), \"Initial W = \", W, \"\\n\", \", b = \", b )\n",
    "\n",
    "for step in  range(8001):  \n",
    "    \n",
    "    W -= learning_rate * numerical_derivative(f, W)\n",
    "    \n",
    "    b -= learning_rate * numerical_derivative(f, b)\n",
    "    \n",
    "    if (step % 400 == 0):\n",
    "        print(\"step = \", step, \"error value = \", error_val(x_data, t_data), \"W = \", W, \", b = \",b )"
   ]
  },
  {
   "cell_type": "code",
   "execution_count": 7,
   "metadata": {
    "collapsed": false,
    "jupyter": {
     "outputs_hidden": false
    }
   },
   "outputs": [
    {
     "data": {
      "text/plain": [
       "array([[44.]])"
      ]
     },
     "execution_count": 7,
     "metadata": {},
     "output_type": "execute_result"
    }
   ],
   "source": [
    "predict(43) "
   ]
  },
  {
   "cell_type": "code",
   "execution_count": null,
   "metadata": {},
   "outputs": [],
   "source": []
  }
 ],
 "metadata": {
  "anaconda-cloud": {},
  "kernelspec": {
   "display_name": "Python 3 (ipykernel)",
   "language": "python",
   "name": "python3"
  },
  "language_info": {
   "codemirror_mode": {
    "name": "ipython",
    "version": 3
   },
   "file_extension": ".py",
   "mimetype": "text/x-python",
   "name": "python",
   "nbconvert_exporter": "python",
   "pygments_lexer": "ipython3",
   "version": "3.12.7"
  }
 },
 "nbformat": 4,
 "nbformat_minor": 4
}
