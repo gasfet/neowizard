{
 "cells": [
  {
   "cell_type": "markdown",
   "metadata": {
    "id": "v6dyxUozWQ2l"
   },
   "source": [
    "# 데이터 정의"
   ]
  },
  {
   "cell_type": "code",
   "execution_count": 1,
   "metadata": {
    "colab": {
     "base_uri": "https://localhost:8080/"
    },
    "id": "74Ui1qEopfxF",
    "outputId": "552075dd-5484-4127-e3d9-8351d867f754"
   },
   "outputs": [
    {
     "name": "stdout",
     "output_type": "stream",
     "text": [
      "torch.Size([10, 1]) torch.Size([10, 1])\n"
     ]
    }
   ],
   "source": [
    "import torch\n",
    "\n",
    "x_train = torch.Tensor([2, 4, 6, 8, 10,\n",
    "                        12, 14, 16, 18, 20]).view(10,1)\n",
    "y_train = torch.Tensor([0, 0, 0, 0, 0,\n",
    "                        0, 1, 1, 1, 1]).view(10,1)\n",
    "\n",
    "print(x_train.shape, y_train.shape)"
   ]
  },
  {
   "cell_type": "markdown",
   "metadata": {
    "id": "XnPf1NiGWZ2n"
   },
   "source": [
    "# 신경망 모델 구축"
   ]
  },
  {
   "cell_type": "code",
   "execution_count": 2,
   "metadata": {
    "id": "VhOa5OFRDpIX"
   },
   "outputs": [],
   "source": [
    "from torch import nn\n",
    "\n",
    "class MyDeepLearningModel(nn.Module):\n",
    "    def __init__(self):\n",
    "        super().__init__()\n",
    "        self.l1 = nn.Linear(1,8) # weight 8x1, bias 8\n",
    "        self.l2 = nn.Linear(8,1) # weight 1x8, bias 1\n",
    "        self.l3 = nn.Sigmoid()\n",
    "        \n",
    "    def forward(self, data):        \n",
    "        x = self.l1(data)\n",
    "        x = self.l2(x)\n",
    "        prediction = self.l3(x)\n",
    "        return prediction\n",
    "\n",
    "class MyDeepLearningModel1(nn.Module):\n",
    "    def __init__(self):\n",
    "        super().__init__()\n",
    "        self.deeplearning_stack = nn.Sequential(\n",
    "            nn.Linear(1, 8),\n",
    "            nn.Linear(8, 1),\n",
    "            nn.Sigmoid()\n",
    "        )\n",
    "    def forward(self, data):\n",
    "        prediction = self.deeplearning_stack(data)\n",
    "        return prediction"
   ]
  },
  {
   "cell_type": "code",
   "execution_count": 3,
   "metadata": {
    "colab": {
     "base_uri": "https://localhost:8080/"
    },
    "id": "cPAKFy3nFDAM",
    "outputId": "509f6787-d266-4b0c-b6fa-195469a5b4fd"
   },
   "outputs": [
    {
     "name": "stdout",
     "output_type": "stream",
     "text": [
      "[ l1 ]\n",
      "======\n",
      "Parameter containing:\n",
      "tensor([[-0.3943],\n",
      "        [ 0.9553],\n",
      "        [ 0.9594],\n",
      "        [-0.4677],\n",
      "        [ 0.4200],\n",
      "        [ 0.1399],\n",
      "        [-0.5292],\n",
      "        [-0.6150]], requires_grad=True)\n",
      "======\n",
      "Parameter containing:\n",
      "tensor([ 0.5413, -0.4272, -0.8608, -0.4075,  0.2035,  0.1745,  0.6689, -0.6651],\n",
      "       requires_grad=True)\n",
      "[ l2 ]\n",
      "======\n",
      "Parameter containing:\n",
      "tensor([[ 0.1777, -0.0789, -0.1068, -0.2480,  0.3020,  0.2588, -0.3001,  0.2183]],\n",
      "       requires_grad=True)\n",
      "======\n",
      "Parameter containing:\n",
      "tensor([-0.0802], requires_grad=True)\n",
      "[ l3 ]\n"
     ]
    }
   ],
   "source": [
    "deeplearning_model  = MyDeepLearningModel()\n",
    "\n",
    "for name, child in deeplearning_model.named_children():\n",
    "    print('[',name, ']' )\n",
    "    for param in child.parameters():\n",
    "        print(\"======\")\n",
    "        print(param)\n"
   ]
  },
  {
   "cell_type": "markdown",
   "metadata": {
    "id": "sLxVJHH2XvUi"
   },
   "source": [
    "# 손실함수 및 옵티마이저 설정"
   ]
  },
  {
   "cell_type": "code",
   "execution_count": 4,
   "metadata": {
    "id": "tbLGmwCPrY3f"
   },
   "outputs": [],
   "source": [
    "loss_function = nn.BCELoss()\n",
    "\n",
    "optimizer = torch.optim.SGD(deeplearning_model.parameters(), lr=1e-1)"
   ]
  },
  {
   "cell_type": "code",
   "execution_count": 5,
   "metadata": {
    "colab": {
     "base_uri": "https://localhost:8080/"
    },
    "id": "6vRdl-8d_9S3",
    "outputId": "13bdfb91-d021-4870-9d2c-340bb562d6d7"
   },
   "outputs": [
    {
     "name": "stdout",
     "output_type": "stream",
     "text": [
      "epoch =  0  current loss =  0.6793440580368042\n",
      "epoch =  100  current loss =  0.3828432559967041\n",
      "epoch =  200  current loss =  0.30788177251815796\n",
      "epoch =  300  current loss =  0.2633592486381531\n",
      "epoch =  400  current loss =  0.23306997120380402\n",
      "epoch =  500  current loss =  0.2108081579208374\n",
      "epoch =  600  current loss =  0.19359561800956726\n",
      "epoch =  700  current loss =  0.17979642748832703\n",
      "epoch =  800  current loss =  0.16843003034591675\n",
      "epoch =  900  current loss =  0.1588670313358307\n",
      "epoch =  1000  current loss =  0.15068189799785614\n",
      "epoch =  1100  current loss =  0.14357627928256989\n",
      "epoch =  1200  current loss =  0.13733471930027008\n",
      "epoch =  1300  current loss =  0.13179662823677063\n",
      "epoch =  1400  current loss =  0.12683898210525513\n",
      "epoch =  1500  current loss =  0.12236884981393814\n",
      "epoch =  1600  current loss =  0.11830923706293106\n",
      "epoch =  1700  current loss =  0.11460181325674057\n",
      "epoch =  1800  current loss =  0.11119749397039413\n",
      "epoch =  1900  current loss =  0.10805697739124298\n",
      "epoch =  2000  current loss =  0.10514726489782333\n",
      "epoch =  2100  current loss =  0.10244028270244598\n",
      "epoch =  2200  current loss =  0.09991378337144852\n",
      "epoch =  2300  current loss =  0.0975472554564476\n",
      "epoch =  2400  current loss =  0.09532403945922852\n",
      "epoch =  2500  current loss =  0.09322918951511383\n",
      "epoch =  2600  current loss =  0.09125079214572906\n",
      "epoch =  2700  current loss =  0.08937837183475494\n",
      "epoch =  2800  current loss =  0.08759308606386185\n",
      "epoch =  2900  current loss =  0.08592540770769119\n",
      "epoch =  3000  current loss =  0.08495999872684479\n",
      "epoch =  3100  current loss =  0.08829904347658157\n",
      "epoch =  3200  current loss =  0.2483118325471878\n",
      "epoch =  3300  current loss =  0.03508457913994789\n",
      "epoch =  3400  current loss =  0.056121598929166794\n",
      "epoch =  3500  current loss =  0.032288216054439545\n",
      "epoch =  3600  current loss =  0.09430968016386032\n",
      "epoch =  3700  current loss =  0.031111862510442734\n",
      "epoch =  3800  current loss =  0.027383169159293175\n",
      "epoch =  3900  current loss =  0.032491765916347504\n",
      "epoch =  4000  current loss =  0.028304165229201317\n",
      "epoch =  4100  current loss =  0.02505212463438511\n",
      "epoch =  4200  current loss =  0.0241459459066391\n",
      "epoch =  4300  current loss =  0.028935540467500687\n",
      "epoch =  4400  current loss =  0.025409331545233727\n",
      "epoch =  4500  current loss =  0.022617949172854424\n",
      "epoch =  4600  current loss =  0.02034921757876873\n",
      "epoch =  4700  current loss =  0.018467804417014122\n",
      "epoch =  4800  current loss =  0.4132240414619446\n",
      "epoch =  4900  current loss =  0.02541491761803627\n",
      "epoch =  5000  current loss =  0.02245824970304966\n"
     ]
    }
   ],
   "source": [
    "nums_epoch = 5000\n",
    "\n",
    "for epoch in range(nums_epoch+1):\n",
    "\n",
    "    outputs = deeplearning_model(x_train)\n",
    "\n",
    "    loss = loss_function(outputs, y_train)\n",
    "\n",
    "    optimizer.zero_grad()\n",
    "    loss.backward()\n",
    "    optimizer.step()\n",
    "\n",
    "    if epoch % 100 == 0:\n",
    "        print('epoch = ', epoch, ' current loss = ', loss.item())"
   ]
  },
  {
   "cell_type": "code",
   "execution_count": 6,
   "metadata": {
    "colab": {
     "base_uri": "https://localhost:8080/"
    },
    "id": "fr-DUUS0tfXR",
    "outputId": "74543f8a-b4b8-4fb1-c1c2-863abd9c6b17"
   },
   "outputs": [
    {
     "name": "stdout",
     "output_type": "stream",
     "text": [
      "l1 Parameter containing:\n",
      "tensor([[-0.2909],\n",
      "        [ 0.2733],\n",
      "        [ 0.5140],\n",
      "        [ 0.1588],\n",
      "        [-0.0346],\n",
      "        [-0.0404],\n",
      "        [-0.4654],\n",
      "        [ 0.3911]], requires_grad=True)\n",
      "l1 Parameter containing:\n",
      "tensor([ 2.9788, -2.7983, -5.2632, -1.6266,  0.3545,  0.4141,  4.7664, -4.0054],\n",
      "       requires_grad=True)\n",
      "l2 Parameter containing:\n",
      "tensor([[-0.7617,  0.7155,  1.3458,  0.4159, -0.0907, -0.1059, -1.2188,  1.0242]],\n",
      "       requires_grad=True)\n",
      "l2 Parameter containing:\n",
      "tensor([-5.8428], requires_grad=True)\n"
     ]
    }
   ],
   "source": [
    "for name, child in deeplearning_model.named_children():\n",
    "    for param in child.parameters():\n",
    "        print(name, param)"
   ]
  },
  {
   "cell_type": "markdown",
   "metadata": {
    "id": "uZArJnFvwk9Y"
   },
   "source": [
    "# test data 이용한 예측"
   ]
  },
  {
   "cell_type": "code",
   "execution_count": 7,
   "metadata": {
    "colab": {
     "base_uri": "https://localhost:8080/"
    },
    "id": "UKU7SHyYVk8f",
    "outputId": "1861cabe-e338-4516-e69e-3c631b5590eb"
   },
   "outputs": [
    {
     "name": "stdout",
     "output_type": "stream",
     "text": [
      "tensor([[2.3275e-12],\n",
      "        [5.0273e-10],\n",
      "        [1.4731e-09],\n",
      "        [1.4627e-02],\n",
      "        [5.2251e-01],\n",
      "        [1.0000e+00]], grad_fn=<SigmoidBackward0>)\n",
      "tensor([[0.],\n",
      "        [0.],\n",
      "        [0.],\n",
      "        [0.],\n",
      "        [1.],\n",
      "        [1.]])\n"
     ]
    }
   ],
   "source": [
    "deeplearning_model.eval()  \n",
    "\n",
    "test_data = torch.Tensor([0.5, 3.0, 3.5, 11.0, 13.0, 31.0]).view(6,1)\n",
    "\n",
    "pred = deeplearning_model(test_data)\n",
    "\n",
    "logical_value = (pred > 0.5).float()\n",
    "\n",
    "print(pred)\n",
    "print(logical_value)"
   ]
  },
  {
   "cell_type": "code",
   "execution_count": 8,
   "metadata": {},
   "outputs": [
    {
     "data": {
      "text/plain": [
       "MyDeepLearningModel(\n",
       "  (l1): Linear(in_features=1, out_features=8, bias=True)\n",
       "  (l2): Linear(in_features=8, out_features=1, bias=True)\n",
       "  (l3): Sigmoid()\n",
       ")"
      ]
     },
     "execution_count": 8,
     "metadata": {},
     "output_type": "execute_result"
    }
   ],
   "source": [
    "# 모델을 다시 학습 모드로 전환시킨다. \n",
    "deeplearning_model.train()"
   ]
  }
 ],
 "metadata": {
  "colab": {
   "provenance": []
  },
  "kernelspec": {
   "display_name": "Python 3 (ipykernel)",
   "language": "python",
   "name": "python3"
  },
  "language_info": {
   "codemirror_mode": {
    "name": "ipython",
    "version": 3
   },
   "file_extension": ".py",
   "mimetype": "text/x-python",
   "name": "python",
   "nbconvert_exporter": "python",
   "pygments_lexer": "ipython3",
   "version": "3.12.7"
  }
 },
 "nbformat": 4,
 "nbformat_minor": 4
}
