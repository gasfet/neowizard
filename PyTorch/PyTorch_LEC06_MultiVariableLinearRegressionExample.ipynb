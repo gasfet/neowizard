{
 "cells": [
  {
   "cell_type": "markdown",
   "metadata": {
    "id": "v6dyxUozWQ2l"
   },
   "source": [
    "# 데이터 정의"
   ]
  },
  {
   "cell_type": "code",
   "execution_count": 4,
   "metadata": {
    "colab": {
     "base_uri": "https://localhost:8080/"
    },
    "id": "r_goz9tn-Piv",
    "outputId": "a31113a3-402d-463e-f3a6-4899c745af76"
   },
   "outputs": [
    {
     "name": "stdout",
     "output_type": "stream",
     "text": [
      "[[ 1.  2.  0. -4.]\n",
      " [ 5.  4.  3.  4.]\n",
      " [ 1.  2. -1. -6.]]\n",
      "========================\n",
      "[[ 1.  2.  0.]\n",
      " [ 5.  4.  3.]\n",
      " [ 1.  2. -1.]]\n",
      "========================\n",
      "[[-4.]\n",
      " [ 4.]\n",
      " [-6.]]\n"
     ]
    }
   ],
   "source": [
    "import numpy as np\n",
    "\n",
    "loaded_data = np.loadtxt('./LEC06_TrainData.csv', delimiter=',')\n",
    "\n",
    "x_train_np = loaded_data[ : , 0:-1]\n",
    "\n",
    "y_train_np = loaded_data[ : , [-1]]\n",
    "\n",
    "print(loaded_data[:3])\n",
    "print('========================')\n",
    "print(x_train_np[:3])\n",
    "print('========================')\n",
    "print(y_train_np[:3])"
   ]
  },
  {
   "cell_type": "code",
   "execution_count": 5,
   "metadata": {
    "id": "74Ui1qEopfxF"
   },
   "outputs": [],
   "source": [
    "import torch\n",
    "from torch import nn\n",
    "\n",
    "x_train = torch.Tensor(x_train_np)\n",
    "y_train = torch.Tensor(y_train_np)"
   ]
  },
  {
   "cell_type": "markdown",
   "metadata": {
    "id": "XnPf1NiGWZ2n"
   },
   "source": [
    "# 신경망 모델 구축"
   ]
  },
  {
   "cell_type": "code",
   "execution_count": 19,
   "metadata": {
    "id": "VhOa5OFRDpIX"
   },
   "outputs": [],
   "source": [
    "from torch import nn\n",
    "\n",
    "class MyLinearRegressionModel(nn.Module):\n",
    "\n",
    "    def __init__(self, input_nodes):\n",
    "        super().__init__()\n",
    "        #self.l1 = nn.Linear(input_nodes, 1)\n",
    "        #self.l2 = nn.Linear(1,1)        \n",
    "        self.linear_stack = nn.Sequential(\n",
    "            nn.Linear(input_nodes, 1)\n",
    "        )\n",
    "        \n",
    "    def forward(self, data):\n",
    "        prediction = self.linear_stack(data)\n",
    "        #x = self.l1(data)\n",
    "        #prediction = self.l2(x)\n",
    "        return prediction"
   ]
  },
  {
   "cell_type": "code",
   "execution_count": 26,
   "metadata": {
    "colab": {
     "base_uri": "https://localhost:8080/"
    },
    "id": "tbLGmwCPrY3f",
    "outputId": "f92d8551-87a5-4c42-988d-4db6c42834aa"
   },
   "outputs": [
    {
     "name": "stdout",
     "output_type": "stream",
     "text": [
      "Parameter containing:\n",
      "tensor([[ 0.4719,  0.4683, -0.2873]], requires_grad=True)\n",
      "Parameter containing:\n",
      "tensor([0.1841], requires_grad=True)\n"
     ]
    }
   ],
   "source": [
    "model = MyLinearRegressionModel(3)\n",
    "\n",
    "for name, child in model.named_children():\n",
    "    for param in child.parameters():\n",
    "        print(param)"
   ]
  },
  {
   "cell_type": "markdown",
   "metadata": {
    "id": "d74__n3usaUG"
   },
   "source": [
    "# 손실함수 및 옵티마이저 설정"
   ]
  },
  {
   "cell_type": "code",
   "execution_count": 28,
   "metadata": {
    "id": "bhbaxF8U2XZ3"
   },
   "outputs": [],
   "source": [
    "loss_function = nn.MSELoss()\n",
    "\n",
    "#확율적 경사하강법\n",
    "optimizer = torch.optim.SGD(model.parameters(), lr=1e-2)"
   ]
  },
  {
   "cell_type": "code",
   "execution_count": 29,
   "metadata": {
    "colab": {
     "base_uri": "https://localhost:8080/"
    },
    "id": "6vRdl-8d_9S3",
    "outputId": "dfd7817a-2057-43b6-bb0b-9f12e68e3601"
   },
   "outputs": [
    {
     "name": "stdout",
     "output_type": "stream",
     "text": [
      "epoch =  0  current loss =  24.78008460998535\n",
      "epoch =  100  current loss =  0.18139661848545074\n",
      "epoch =  200  current loss =  0.0018173522548750043\n",
      "epoch =  300  current loss =  0.00014768358960282058\n",
      "epoch =  400  current loss =  4.624519351636991e-05\n",
      "epoch =  500  current loss =  1.559577685839031e-05\n",
      "epoch =  600  current loss =  5.270253041089745e-06\n",
      "epoch =  700  current loss =  1.7808223446991178e-06\n",
      "epoch =  800  current loss =  6.021178364790103e-07\n",
      "epoch =  900  current loss =  2.0372947062696767e-07\n",
      "epoch =  1000  current loss =  6.892237536249013e-08\n",
      "epoch =  1100  current loss =  2.3493674561336775e-08\n",
      "epoch =  1200  current loss =  7.914612076831418e-09\n",
      "epoch =  1300  current loss =  2.6991471280268797e-09\n",
      "epoch =  1400  current loss =  9.400950018445542e-10\n",
      "epoch =  1500  current loss =  3.3894867468298173e-10\n",
      "epoch =  1600  current loss =  1.3631033801697612e-10\n",
      "epoch =  1700  current loss =  6.552523107439256e-11\n",
      "epoch =  1800  current loss =  3.7335769892399284e-11\n",
      "epoch =  1900  current loss =  2.1384116699607603e-11\n",
      "epoch =  2000  current loss =  1.9968204173492765e-11\n"
     ]
    }
   ],
   "source": [
    "loss_list = []\n",
    "nums_epoch = 2000\n",
    "\n",
    "for epoch in range(nums_epoch+1):\n",
    "\n",
    "    prediction = model(x_train)\n",
    "    loss = loss_function(prediction, y_train)\n",
    "\n",
    "    loss_list.append(loss.item())\n",
    "\n",
    "    optimizer.zero_grad()\n",
    "    loss.backward()\n",
    "    optimizer.step()\n",
    "\n",
    "    if epoch % 100 == 0:\n",
    "        print('epoch = ', epoch, ' current loss = ', loss.item())"
   ]
  },
  {
   "cell_type": "code",
   "execution_count": 31,
   "metadata": {
    "colab": {
     "base_uri": "https://localhost:8080/"
    },
    "id": "fr-DUUS0tfXR",
    "outputId": "90f1e188-0935-4ab3-b87c-87e08d2fe8af"
   },
   "outputs": [
    {
     "name": "stdout",
     "output_type": "stream",
     "text": [
      "linear_stack Parameter containing:\n",
      "tensor([[ 2.0000, -3.0000,  2.0000]], requires_grad=True)\n",
      "linear_stack Parameter containing:\n",
      "tensor([6.3590e-06], requires_grad=True)\n"
     ]
    }
   ],
   "source": [
    "for name, child in model.named_children():\n",
    "    for param in child.parameters():\n",
    "        print(name, param)"
   ]
  },
  {
   "cell_type": "code",
   "execution_count": 32,
   "metadata": {
    "colab": {
     "base_uri": "https://localhost:8080/"
    },
    "id": "Y19m8tYLCQKD",
    "outputId": "87ac33a2-5f3b-45aa-b90e-0960006f880c"
   },
   "outputs": [
    {
     "name": "stdout",
     "output_type": "stream",
     "text": [
      "Parameter containing:\n",
      "tensor([[ 2.0000, -3.0000,  2.0000]], requires_grad=True)\n",
      "Parameter containing:\n",
      "tensor([6.3590e-06], requires_grad=True)\n"
     ]
    }
   ],
   "source": [
    "for param in model.parameters():\n",
    "    print(param)"
   ]
  },
  {
   "cell_type": "markdown",
   "metadata": {
    "id": "uZArJnFvwk9Y"
   },
   "source": [
    "# 테스트 데이터 예측"
   ]
  },
  {
   "cell_type": "code",
   "execution_count": 33,
   "metadata": {
    "colab": {
     "base_uri": "https://localhost:8080/"
    },
    "id": "hdO98zfKAyll",
    "outputId": "f76d5c4e-94e0-4228-ef5a-c9cadbfa00f4"
   },
   "outputs": [
    {
     "name": "stdout",
     "output_type": "stream",
     "text": [
      "tensor([[-5.0000],\n",
      "        [-3.0000],\n",
      "        [-4.0000],\n",
      "        [ 9.0000],\n",
      "        [ 7.0000]], grad_fn=<AddmmBackward0>)\n",
      "=============================================\n",
      "[tensor(-5.), tensor(-3.), tensor(-4.), tensor(9.), tensor(7.)]\n"
     ]
    }
   ],
   "source": [
    "x_test = torch.Tensor([ [5, 5, 0], [2, 3, 1], [-1, 0, -1], [10, 5, 2], [4, -1, -2] ])\n",
    "\n",
    "label = [ 2*data[0] -3*data[1] + 2*data[2]  for data in x_test ]\n",
    "\n",
    "pred = model(x_test)\n",
    "\n",
    "print(pred)\n",
    "print('=============================================')\n",
    "print(label)"
   ]
  },
  {
   "cell_type": "code",
   "execution_count": 34,
   "metadata": {
    "colab": {
     "base_uri": "https://localhost:8080/",
     "height": 472
    },
    "id": "8tkzr0NZxE-D",
    "outputId": "29f21283-6101-4438-a4f6-2205815d790f"
   },
   "outputs": [
    {
     "data": {
      "image/png": "[encoded data removed]",
      "text/plain": [
       "<Figure size 640x480 with 1 Axes>"
      ]
     },
     "metadata": {},
     "output_type": "display_data"
    }
   ],
   "source": [
    "import matplotlib.pyplot as plt\n",
    "\n",
    "plt.title('Loss Trend')\n",
    "plt.xlabel('epochs')\n",
    "plt.ylabel('loss')\n",
    "plt.grid()\n",
    "\n",
    "plt.plot(loss_list, label='train loss')\n",
    "plt.legend(loc='best')\n",
    "\n",
    "plt.show()"
   ]
  },
  {
   "cell_type": "code",
   "execution_count": null,
   "metadata": {
    "id": "jHOdmJqUuMoh"
   },
   "outputs": [],
   "source": []
  },
  {
   "cell_type": "code",
   "execution_count": null,
   "metadata": {},
   "outputs": [],
   "source": []
  }
 ],
 "metadata": {
  "colab": {
   "provenance": []
  },
  "kernelspec": {
   "display_name": "Python 3 (ipykernel)",
   "language": "python",
   "name": "python3"
  },
  "language_info": {
   "codemirror_mode": {
    "name": "ipython",
    "version": 3
   },
   "file_extension": ".py",
   "mimetype": "text/x-python",
   "name": "python",
   "nbconvert_exporter": "python",
   "pygments_lexer": "ipython3",
   "version": "3.12.7"
  }
 },
 "nbformat": 4,
 "nbformat_minor": 4
}
