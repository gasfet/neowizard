{
 "cells": [
  {
   "cell_type": "markdown",
   "metadata": {
    "id": "B799tKkoJks9"
   },
   "source": [
    "# Tensor 만들기"
   ]
  },
  {
   "cell_type": "code",
   "execution_count": 3,
   "metadata": {
    "id": "cm30VsxRXzXx"
   },
   "outputs": [],
   "source": [
    "import torch\n",
    "import numpy as np"
   ]
  },
  {
   "cell_type": "code",
   "execution_count": 4,
   "metadata": {
    "colab": {
     "base_uri": "https://localhost:8080/"
    },
    "id": "h5LSWFmlYRzI",
    "outputId": "10890bd0-8325-4437-fd47-5877267a21d3"
   },
   "outputs": [
    {
     "name": "stdout",
     "output_type": "stream",
     "text": [
      "tensor([[10., 20.],\n",
      "        [30., 40.]])\n",
      "tensor type: <class 'torch.Tensor'>, tensor shape: torch.Size([2, 2])\n",
      "tensor dtype: torch.float32, tensor device: cpu\n"
     ]
    }
   ],
   "source": [
    "list_data = [ [10, 20], [30, 40] ]\n",
    "\n",
    "tensor1 = torch.Tensor(list_data)\n",
    "\n",
    "print(tensor1)\n",
    "print(f\"tensor type: {type(tensor1)}, tensor shape: {tensor1.shape}\")\n",
    "print(f\"tensor dtype: {tensor1.dtype}, tensor device: {tensor1.device}\")"
   ]
  },
  {
   "cell_type": "code",
   "execution_count": 5,
   "metadata": {},
   "outputs": [
    {
     "data": {
      "text/plain": [
       "set"
      ]
     },
     "execution_count": 5,
     "metadata": {},
     "output_type": "execute_result"
    }
   ],
   "source": [
    "list_data[-1:-1]\n",
    "abc = (1,2)\n",
    "efg = {1,2}\n",
    "type(abc)\n",
    "type(efg)"
   ]
  },
  {
   "cell_type": "code",
   "execution_count": 6,
   "metadata": {
    "colab": {
     "base_uri": "https://localhost:8080/"
    },
    "id": "4c6-XJf5UF6u",
    "outputId": "2e926638-71d9-472b-9bdf-81789b01e1b9"
   },
   "outputs": [
    {
     "name": "stdout",
     "output_type": "stream",
     "text": [
      "tensor type: <class 'torch.Tensor'>, tensor shape: torch.Size([2, 2])\n",
      "tensor dtype: torch.float32, tensor device: cuda:0\n"
     ]
    }
   ],
   "source": [
    "if torch.cuda.is_available():\n",
    "    tensor1 = tensor1.to(\"cuda\")\n",
    "\n",
    "print(f\"tensor type: {type(tensor1)}, tensor shape: {tensor1.shape}\")\n",
    "print(f\"tensor dtype: {tensor1.dtype}, tensor device: {tensor1.device}\")"
   ]
  },
  {
   "cell_type": "code",
   "execution_count": null,
   "metadata": {},
   "outputs": [],
   "source": []
  },
  {
   "cell_type": "code",
   "execution_count": 7,
   "metadata": {
    "colab": {
     "base_uri": "https://localhost:8080/"
    },
    "id": "qZDMp_RaYffN",
    "outputId": "d69851a9-3c99-417a-8e9d-1b39cb5b5ab7"
   },
   "outputs": [
    {
     "name": "stdout",
     "output_type": "stream",
     "text": [
      "tensor([[10., 20.],\n",
      "        [30., 40.]])\n",
      "tensor type: <class 'torch.Tensor'>, tensor shape: torch.Size([2, 2])\n",
      "tensor dtype: torch.float32, tensor device: cpu\n"
     ]
    }
   ],
   "source": [
    "numpy_data = np.array(list_data)\n",
    "\n",
    "tensor2 = torch.Tensor(numpy_data)\n",
    "\n",
    "print(tensor2)\n",
    "print(f\"tensor type: {type(tensor2)}, tensor shape: {tensor2.shape}\")\n",
    "print(f\"tensor dtype: {tensor2.dtype}, tensor device: {tensor2.device}\")"
   ]
  },
  {
   "cell_type": "code",
   "execution_count": 8,
   "metadata": {
    "colab": {
     "base_uri": "https://localhost:8080/"
    },
    "editable": true,
    "id": "eIvckpFZaGkI",
    "outputId": "22792b62-9976-45e0-d41b-2d54b38abc23",
    "slideshow": {
     "slide_type": ""
    },
    "tags": []
   },
   "outputs": [
    {
     "name": "stdout",
     "output_type": "stream",
     "text": [
      "tensor([[10, 20],\n",
      "        [30, 40]])\n",
      "tensor type: <class 'torch.Tensor'>, tensor shape: torch.Size([2, 2])\n",
      "tensor dtype: torch.int64, tensor device: cpu\n",
      "====================================\n",
      "tensor([[10., 20.],\n",
      "        [30., 40.]])\n",
      "tensor type: <class 'torch.Tensor'>, tensor shape: torch.Size([2, 2])\n",
      "tensor dtype: torch.float32, tensor device: cpu\n"
     ]
    }
   ],
   "source": [
    "numpy_data = np.array(list_data)\n",
    "\n",
    "tensor2_1 = torch.from_numpy(numpy_data)\n",
    "\n",
    "print(tensor2_1)\n",
    "print(f\"tensor type: {type(tensor2_1)}, tensor shape: {tensor2_1.shape}\")\n",
    "print(f\"tensor dtype: {tensor2_1.dtype}, tensor device: {tensor2_1.device}\")\n",
    "\n",
    "tensor2_2 = torch.from_numpy(numpy_data).float()\n",
    "print('====================================')\n",
    "\n",
    "print(tensor2_2)\n",
    "print(f\"tensor type: {type(tensor2_2)}, tensor shape: {tensor2_2.shape}\")\n",
    "print(f\"tensor dtype: {tensor2_2.dtype}, tensor device: {tensor2_2.device}\")"
   ]
  },
  {
   "cell_type": "code",
   "execution_count": 9,
   "metadata": {
    "colab": {
     "base_uri": "https://localhost:8080/"
    },
    "id": "0LXyTWbUKH4r",
    "outputId": "b7d761cd-fbc4-4b85-e879-57d4c505dadf"
   },
   "outputs": [
    {
     "name": "stdout",
     "output_type": "stream",
     "text": [
      "tensor([[0.2462, 0.3690],\n",
      "        [0.9101, 0.1679]])\n",
      "tensor([[-0.0279,  0.2274],\n",
      "        [ 0.3161,  1.6759]])\n"
     ]
    }
   ],
   "source": [
    "tensor3 = torch.rand(2, 2)\n",
    "print(tensor3)\n",
    "\n",
    "tensor4 = torch.randn(2, 2)\n",
    "print(tensor4)"
   ]
  },
  {
   "cell_type": "code",
   "execution_count": 10,
   "metadata": {
    "colab": {
     "base_uri": "https://localhost:8080/"
    },
    "id": "DdjMelxNKKYs",
    "outputId": "43b2617f-baeb-4444-f71b-25d965c525b2"
   },
   "outputs": [
    {
     "name": "stdout",
     "output_type": "stream",
     "text": [
      "tensor([[-1.3262,  0.4996],\n",
      "        [-0.1887,  1.2609]])\n",
      "[[-1.3261533   0.4995506 ]\n",
      " [-0.18867505  1.2609419 ]]\n"
     ]
    }
   ],
   "source": [
    "tensor5 = torch.randn(2, 2)\n",
    "print(tensor5)\n",
    "\n",
    "numpy_from_tensor = tensor5.numpy()\n",
    "print(numpy_from_tensor)"
   ]
  },
  {
   "cell_type": "markdown",
   "metadata": {
    "id": "sXPqTPcDXxaN"
   },
   "source": [
    "# Tensor 연산"
   ]
  },
  {
   "cell_type": "code",
   "execution_count": 13,
   "metadata": {
    "colab": {
     "base_uri": "https://localhost:8080/"
    },
    "id": "C4acmA7vSZpT",
    "outputId": "c83c35ec-af10-4777-ec0a-24e6e643e6cd"
   },
   "outputs": [
    {
     "name": "stdout",
     "output_type": "stream",
     "text": [
      "tensor([1., 2., 3.])\n",
      "tensor([[2., 3.],\n",
      "        [5., 6.]])\n",
      "tensor([[ 7.,  8.],\n",
      "        [10., 11.]])\n",
      "tensor(12.)\n",
      "tensor([ 8., 11.])\n"
     ]
    }
   ],
   "source": [
    "tensor6 = torch.Tensor([[1, 2, 3], [4, 5, 6]])\n",
    "\n",
    "tensor7 = torch.Tensor([[7, 8, 9], [10, 11, 12]])\n",
    "\n",
    "print(tensor6[0])\n",
    "print(tensor6[:, 1:])\n",
    "print(tensor7[0:2, 0:-1])\n",
    "print(tensor7[-1, -1])\n",
    "print(tensor7[... , -2])"
   ]
  },
  {
   "cell_type": "code",
   "execution_count": 17,
   "metadata": {
    "colab": {
     "base_uri": "https://localhost:8080/"
    },
    "id": "46lw1Y90YcEy",
    "outputId": "22bc72d9-8582-4df8-847e-e1553886001f"
   },
   "outputs": [
    {
     "name": "stdout",
     "output_type": "stream",
     "text": [
      "type <class 'torch.Tensor'>\n",
      "tensor([[ 7., 16., 27.],\n",
      "        [40., 55., 72.]])\n"
     ]
    }
   ],
   "source": [
    "tensor8 = tensor6.mul(tensor7)  # tensor8 = tensor6 * tensor7\n",
    "print(f\"type {type(tensor7)}\")\n",
    "print(tensor8)"
   ]
  },
  {
   "cell_type": "code",
   "execution_count": 18,
   "metadata": {
    "colab": {
     "base_uri": "https://localhost:8080/",
     "height": 186
    },
    "id": "-iXuoTYOcZg4",
    "outputId": "a3d7585e-bd07-458c-aba9-213507b80af8"
   },
   "outputs": [
    {
     "ename": "RuntimeError",
     "evalue": "mat1 and mat2 shapes cannot be multiplied (2x3 and 2x3)",
     "output_type": "error",
     "traceback": [
      "\u001b[1;31m---------------------------------------------------------------------------\u001b[0m",
      "\u001b[1;31mRuntimeError\u001b[0m                              Traceback (most recent call last)",
      "Cell \u001b[1;32mIn[18], line 1\u001b[0m\n\u001b[1;32m----> 1\u001b[0m tensor9 \u001b[38;5;241m=\u001b[39m tensor6\u001b[38;5;241m.\u001b[39mmatmul(tensor7)\n",
      "\u001b[1;31mRuntimeError\u001b[0m: mat1 and mat2 shapes cannot be multiplied (2x3 and 2x3)"
     ]
    }
   ],
   "source": [
    "tensor9 = tensor6.matmul(tensor7)   # tensor6 @ tensor7"
   ]
  },
  {
   "cell_type": "code",
   "execution_count": 19,
   "metadata": {
    "colab": {
     "base_uri": "https://localhost:8080/"
    },
    "id": "PwL5cOk3vrK7",
    "outputId": "0a1c4236-5b63-4825-b386-4ca75c05450a"
   },
   "outputs": [
    {
     "data": {
      "text/plain": [
       "tensor([[ 7.,  8.],\n",
       "        [ 9., 10.],\n",
       "        [11., 12.]])"
      ]
     },
     "execution_count": 19,
     "metadata": {},
     "output_type": "execute_result"
    }
   ],
   "source": [
    "tensor7.view(3, 2)"
   ]
  },
  {
   "cell_type": "code",
   "execution_count": 20,
   "metadata": {
    "colab": {
     "base_uri": "https://localhost:8080/"
    },
    "id": "TpXLPuq-ckdR",
    "outputId": "336f53a2-652f-4e4b-cc42-8b3310c0173f"
   },
   "outputs": [
    {
     "name": "stdout",
     "output_type": "stream",
     "text": [
      "tensor([[ 58.,  64.],\n",
      "        [139., 154.]])\n"
     ]
    }
   ],
   "source": [
    "tensor9 = tensor6.matmul(tensor7.view(3, 2))  # tensor6 @ tensor7.view(3, 2)\n",
    "\n",
    "print(tensor9)"
   ]
  },
  {
   "cell_type": "markdown",
   "metadata": {
    "id": "3nhPbJhAevLq"
   },
   "source": [
    "# Tensor 합치기(Concatenate)"
   ]
  },
  {
   "cell_type": "code",
   "execution_count": 13,
   "metadata": {
    "colab": {
     "base_uri": "https://localhost:8080/"
    },
    "id": "g1xYr91sfQ5R",
    "outputId": "d1dec444-2718-47f2-80d9-93cc75d8729c"
   },
   "outputs": [
    {
     "name": "stdout",
     "output_type": "stream",
     "text": [
      "tensor([[ 1.,  2.,  3.],\n",
      "        [ 4.,  5.,  6.],\n",
      "        [ 7.,  8.,  9.],\n",
      "        [10., 11., 12.]])\n"
     ]
    }
   ],
   "source": [
    "tensor_cat = torch.cat([tensor6, tensor7])\n",
    "\n",
    "print(tensor_cat)"
   ]
  },
  {
   "cell_type": "code",
   "execution_count": 14,
   "metadata": {
    "colab": {
     "base_uri": "https://localhost:8080/"
    },
    "id": "Yh2RCOkQcrVa",
    "outputId": "bd13d175-4112-478b-9420-61c82afe7c5e"
   },
   "outputs": [
    {
     "name": "stdout",
     "output_type": "stream",
     "text": [
      "tensor([[ 1.,  2.,  3.],\n",
      "        [ 4.,  5.,  6.],\n",
      "        [ 7.,  8.,  9.],\n",
      "        [10., 11., 12.]])\n"
     ]
    }
   ],
   "source": [
    "tensor_cat_dim0 = torch.cat([tensor6, tensor7], dim=0)\n",
    "\n",
    "print(tensor_cat_dim0)"
   ]
  },
  {
   "cell_type": "code",
   "execution_count": 15,
   "metadata": {
    "colab": {
     "base_uri": "https://localhost:8080/"
    },
    "id": "GDbZm9hefL_G",
    "outputId": "b17ffa3b-3aa0-4304-fe56-a8ae402670c9"
   },
   "outputs": [
    {
     "name": "stdout",
     "output_type": "stream",
     "text": [
      "tensor([[ 1.,  2.,  3.,  7.,  8.,  9.],\n",
      "        [ 4.,  5.,  6., 10., 11., 12.]])\n"
     ]
    }
   ],
   "source": [
    "tensor_cat_dim1 = torch.cat([tensor6, tensor7], dim=1)\n",
    "\n",
    "print(tensor_cat_dim1)"
   ]
  },
  {
   "cell_type": "code",
   "execution_count": null,
   "metadata": {
    "id": "RYy0mKY6fPaQ"
   },
   "outputs": [],
   "source": []
  }
 ],
 "metadata": {
  "accelerator": "GPU",
  "colab": {
   "gpuType": "T4",
   "provenance": []
  },
  "kernelspec": {
   "display_name": "Python 3 (ipykernel)",
   "language": "python",
   "name": "python3"
  },
  "language_info": {
   "codemirror_mode": {
    "name": "ipython",
    "version": 3
   },
   "file_extension": ".py",
   "mimetype": "text/x-python",
   "name": "python",
   "nbconvert_exporter": "python",
   "pygments_lexer": "ipython3",
   "version": "3.12.7"
  }
 },
 "nbformat": 4,
 "nbformat_minor": 4
}
