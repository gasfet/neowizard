{
 "cells": [
  {
   "cell_type": "markdown",
   "metadata": {
    "id": "v6dyxUozWQ2l"
   },
   "source": [
    "# 데이터 정의"
   ]
  },
  {
   "cell_type": "code",
   "execution_count": 2,
   "metadata": {
    "id": "OC5I3LHZ8pWF"
   },
   "outputs": [],
   "source": [
    "import torch\n",
    "from torch import nn\n",
    "\n",
    "x_train = torch.Tensor([1, 2, 3, 4, 5, 6]).view(6,1)\n",
    "y_train = torch.Tensor([3, 4, 5, 6, 7, 8]).view(6,1)"
   ]
  },
  {
   "cell_type": "code",
   "execution_count": 3,
   "metadata": {
    "id": "bgpMatuPDWYl"
   },
   "outputs": [],
   "source": [
    "import torch\n",
    "from torch.utils.data import TensorDataset\n",
    "from torch.utils.data import DataLoader\n",
    "\n",
    "x_train = torch.Tensor([1, 2, 3, 4, 5, 6]).view(6,1)\n",
    "y_train = torch.Tensor([3, 4, 5, 6, 7, 8]).view(6,1)\n",
    "\n",
    "dataset = TensorDataset(x_train, y_train)\n",
    "\n",
    "dataloader = DataLoader(dataset, batch_size=32, shuffle=True)"
   ]
  },
  {
   "cell_type": "markdown",
   "metadata": {
    "id": "XnPf1NiGWZ2n"
   },
   "source": [
    "# 신경망 모델 구축"
   ]
  },
  {
   "cell_type": "code",
   "execution_count": 4,
   "metadata": {
    "id": "VhOa5OFRDpIX"
   },
   "outputs": [],
   "source": [
    "class MyNeuralNetwork(nn.Module):\n",
    "\n",
    "    def __init__(self):\n",
    "        super().__init__()\n",
    "        self.linear_relu_stack = nn.Sequential(\n",
    "            nn.Linear(1,1)\n",
    "        )\n",
    "\n",
    "    def forward(self, x):\n",
    "        logits = self.linear_relu_stack(x)\n",
    "        return logits"
   ]
  },
  {
   "cell_type": "code",
   "execution_count": null,
   "metadata": {
    "id": "bhbaxF8U2XZ3"
   },
   "outputs": [],
   "source": [
    "model = MyNeuralNetwork()\n",
    "\n",
    "loss_function = nn.MSELoss()\n",
    "\n",
    "optimizer = torch.optim.SGD(model.parameters(), lr=1e-2)"
   ]
  },
  {
   "cell_type": "code",
   "execution_count": null,
   "metadata": {
    "colab": {
     "base_uri": "https://localhost:8080/"
    },
    "id": "6vRdl-8d_9S3",
    "outputId": "2ec1c1c8-88fa-402f-8fb8-b310379b2a8f"
   },
   "outputs": [
    {
     "name": "stdout",
     "output_type": "stream",
     "text": [
      "epoch =  0  current loss =  37.05191421508789\n",
      "epoch =  100  current loss =  0.3001045882701874\n",
      "epoch =  200  current loss =  0.1444464772939682\n",
      "epoch =  300  current loss =  0.06952487677335739\n",
      "epoch =  400  current loss =  0.033463768661022186\n",
      "epoch =  500  current loss =  0.0161068607121706\n",
      "epoch =  600  current loss =  0.0077525838278234005\n",
      "epoch =  700  current loss =  0.003731468925252557\n",
      "epoch =  800  current loss =  0.0017960291588678956\n",
      "epoch =  900  current loss =  0.0008644519839435816\n",
      "epoch =  1000  current loss =  0.0004160820972174406\n",
      "epoch =  1100  current loss =  0.00020027178106829524\n",
      "epoch =  1200  current loss =  9.638969640946016e-05\n",
      "epoch =  1300  current loss =  4.6396893594646826e-05\n",
      "epoch =  1400  current loss =  2.2332458684104495e-05\n",
      "epoch =  1500  current loss =  1.0748007298388984e-05\n",
      "epoch =  1600  current loss =  5.1740644266828895e-06\n",
      "epoch =  1700  current loss =  2.4905057216528803e-06\n",
      "epoch =  1800  current loss =  1.1989213817287236e-06\n",
      "epoch =  1900  current loss =  5.773050588686601e-07\n",
      "epoch =  2000  current loss =  2.780373336008779e-07\n"
     ]
    }
   ],
   "source": [
    "nums_epoch = 2000\n",
    "\n",
    "for epoch in range(nums_epoch+1):\n",
    "\n",
    "    prediction = model(x_train)\n",
    "    loss = loss_function(prediction, y_train)\n",
    "\n",
    "    optimizer.zero_grad()\n",
    "    loss.backward()\n",
    "    optimizer.step()\n",
    "\n",
    "    if epoch % 100 == 0:\n",
    "        print('epoch = ', epoch, ' current loss = ', loss.item())"
   ]
  },
  {
   "cell_type": "markdown",
   "metadata": {
    "id": "uZArJnFvwk9Y"
   },
   "source": [
    "# 테스트 데이터 예측"
   ]
  },
  {
   "cell_type": "code",
   "execution_count": null,
   "metadata": {
    "colab": {
     "base_uri": "https://localhost:8080/"
    },
    "id": "hdO98zfKAyll",
    "outputId": "5bba23e8-48c5-4bac-8c05-efbf50d95b47"
   },
   "outputs": [
    {
     "name": "stdout",
     "output_type": "stream",
     "text": [
      "tensor([[-1.1021],\n",
      "        [ 4.9996],\n",
      "        [ 3.1991],\n",
      "        [-0.5019]], grad_fn=<AddmmBackward0>)\n"
     ]
    }
   ],
   "source": [
    "x_test = torch.Tensor([-3.1, 3.0, 1.2, -2.5]).view(4,1)\n",
    "\n",
    "pred = model(x_test)\n",
    "\n",
    "print(pred)"
   ]
  },
  {
   "cell_type": "code",
   "execution_count": null,
   "metadata": {
    "id": "8tkzr0NZxE-D"
   },
   "outputs": [],
   "source": []
  }
 ],
 "metadata": {
  "colab": {
   "provenance": []
  },
  "kernelspec": {
   "display_name": "Python 3 (ipykernel)",
   "language": "python",
   "name": "python3"
  },
  "language_info": {
   "codemirror_mode": {
    "name": "ipython",
    "version": 3
   },
   "file_extension": ".py",
   "mimetype": "text/x-python",
   "name": "python",
   "nbconvert_exporter": "python",
   "pygments_lexer": "ipython3",
   "version": "3.12.7"
  }
 },
 "nbformat": 4,
 "nbformat_minor": 4
}
