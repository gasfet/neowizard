{
 "cells": [
  {
   "cell_type": "markdown",
   "metadata": {
    "id": "v6dyxUozWQ2l"
   },
   "source": [
    "# 데이터 정의"
   ]
  },
  {
   "cell_type": "code",
   "execution_count": 1,
   "metadata": {
    "colab": {
     "base_uri": "https://localhost:8080/"
    },
    "id": "r_goz9tn-Piv",
    "outputId": "7556673e-ecc7-4924-fb14-5c452cdafbd0"
   },
   "outputs": [
    {
     "name": "stdout",
     "output_type": "stream",
     "text": [
      "loaded_data.shape =  (759, 9)\n",
      "x_train_np.shape =  (759, 8)\n",
      "y_train_np.shape =  (759, 1)\n"
     ]
    }
   ],
   "source": [
    "import numpy as np\n",
    "\n",
    "loaded_data = np.loadtxt('./diabetes.csv', delimiter=',')\n",
    "\n",
    "x_train_np = loaded_data[ : , 0:-1]\n",
    "y_train_np = loaded_data[ : , [-1]]\n",
    "\n",
    "print('loaded_data.shape = ', loaded_data.shape)\n",
    "print('x_train_np.shape = ', x_train_np.shape)\n",
    "print('y_train_np.shape = ', y_train_np.shape)"
   ]
  },
  {
   "cell_type": "code",
   "execution_count": 2,
   "metadata": {
    "id": "74Ui1qEopfxF"
   },
   "outputs": [],
   "source": [
    "import torch\n",
    "from torch import nn\n",
    "\n",
    "x_train = torch.Tensor(x_train_np)\n",
    "y_train = torch.Tensor(y_train_np)\n"
   ]
  },
  {
   "cell_type": "markdown",
   "metadata": {
    "id": "XnPf1NiGWZ2n"
   },
   "source": [
    "# 신경망 모델 구축"
   ]
  },
  {
   "cell_type": "code",
   "execution_count": 3,
   "metadata": {
    "id": "VhOa5OFRDpIX"
   },
   "outputs": [],
   "source": [
    "class MyLogisticRegressionModel(nn.Module):\n",
    "\n",
    "    def __init__(self):\n",
    "        super().__init__()\n",
    "        self.logistic_stack = nn.Sequential(\n",
    "            nn.Linear(8, 1),\n",
    "            nn.Sigmoid()\n",
    "        )\n",
    "\n",
    "    def forward(self, data):\n",
    "        prediction = self.logistic_stack(data)\n",
    "\n",
    "        return prediction"
   ]
  },
  {
   "cell_type": "code",
   "execution_count": 4,
   "metadata": {
    "colab": {
     "base_uri": "https://localhost:8080/"
    },
    "id": "VttIc9qQqZ1T",
    "outputId": "373048b8-b49f-4976-9964-fd56bae43ac7"
   },
   "outputs": [
    {
     "name": "stdout",
     "output_type": "stream",
     "text": [
      "Parameter containing:\n",
      "tensor([[ 0.3310, -0.2157,  0.0904, -0.1940, -0.2058, -0.1841, -0.2023, -0.2882]],\n",
      "       requires_grad=True)\n",
      "Parameter containing:\n",
      "tensor([-0.3219], requires_grad=True)\n"
     ]
    }
   ],
   "source": [
    "model = MyLogisticRegressionModel()\n",
    "\n",
    "for param in model.parameters():\n",
    "    print(param)"
   ]
  },
  {
   "cell_type": "markdown",
   "metadata": {
    "id": "sLxVJHH2XvUi"
   },
   "source": [
    "# 손실함수 및 옵티마이저 설정"
   ]
  },
  {
   "cell_type": "code",
   "execution_count": 5,
   "metadata": {
    "id": "tbLGmwCPrY3f"
   },
   "outputs": [],
   "source": [
    "loss_function = nn.BCELoss()\n",
    "optimizer = torch.optim.SGD(model.parameters(), lr=1e-1)"
   ]
  },
  {
   "cell_type": "code",
   "execution_count": 6,
   "metadata": {
    "colab": {
     "base_uri": "https://localhost:8080/"
    },
    "id": "6vRdl-8d_9S3",
    "outputId": "3d56d7a9-8b2b-4d58-dbba-105c443eb2cd"
   },
   "outputs": [
    {
     "name": "stdout",
     "output_type": "stream",
     "text": [
      "epoch =  0  current loss =  0.6836312413215637  accuracy =  0.5757575757575758\n",
      "epoch =  100  current loss =  0.5627790093421936  accuracy =  0.691699604743083\n",
      "epoch =  200  current loss =  0.5339313745498657  accuracy =  0.7378129117259552\n",
      "epoch =  300  current loss =  0.5162265300750732  accuracy =  0.7575757575757576\n",
      "epoch =  400  current loss =  0.5046845078468323  accuracy =  0.7681159420289855\n",
      "epoch =  500  current loss =  0.4967975318431854  accuracy =  0.7681159420289855\n",
      "epoch =  600  current loss =  0.4912095367908478  accuracy =  0.7720685111989459\n",
      "epoch =  700  current loss =  0.4871365427970886  accuracy =  0.7681159420289855\n",
      "epoch =  800  current loss =  0.4840996563434601  accuracy =  0.769433465085639\n",
      "epoch =  900  current loss =  0.48179253935813904  accuracy =  0.766798418972332\n",
      "epoch =  1000  current loss =  0.48001182079315186  accuracy =  0.7681159420289855\n",
      "epoch =  1100  current loss =  0.47861823439598083  accuracy =  0.7707509881422925\n",
      "epoch =  1200  current loss =  0.4775142967700958  accuracy =  0.7707509881422925\n",
      "epoch =  1300  current loss =  0.47662997245788574  accuracy =  0.7720685111989459\n",
      "epoch =  1400  current loss =  0.4759142994880676  accuracy =  0.7720685111989459\n",
      "epoch =  1500  current loss =  0.4753296673297882  accuracy =  0.7720685111989459\n",
      "epoch =  1600  current loss =  0.47484785318374634  accuracy =  0.7720685111989459\n",
      "epoch =  1700  current loss =  0.4744473397731781  accuracy =  0.7720685111989459\n",
      "epoch =  1800  current loss =  0.47411176562309265  accuracy =  0.7733860342555995\n",
      "epoch =  1900  current loss =  0.4738284945487976  accuracy =  0.7733860342555995\n",
      "epoch =  2000  current loss =  0.47358766198158264  accuracy =  0.7733860342555995\n",
      "epoch =  2100  current loss =  0.4733814299106598  accuracy =  0.7733860342555995\n",
      "epoch =  2200  current loss =  0.4732038080692291  accuracy =  0.7733860342555995\n",
      "epoch =  2300  current loss =  0.47304975986480713  accuracy =  0.7733860342555995\n",
      "epoch =  2400  current loss =  0.4729154407978058  accuracy =  0.7733860342555995\n",
      "epoch =  2500  current loss =  0.4727976322174072  accuracy =  0.7720685111989459\n",
      "epoch =  2600  current loss =  0.4726937711238861  accuracy =  0.7707509881422925\n",
      "epoch =  2700  current loss =  0.47260189056396484  accuracy =  0.7707509881422925\n",
      "epoch =  2800  current loss =  0.472520112991333  accuracy =  0.7707509881422925\n",
      "epoch =  2900  current loss =  0.47244709730148315  accuracy =  0.7707509881422925\n",
      "epoch =  3000  current loss =  0.4723816215991974  accuracy =  0.7707509881422925\n",
      "epoch =  3100  current loss =  0.4723227322101593  accuracy =  0.7707509881422925\n",
      "epoch =  3200  current loss =  0.4722696542739868  accuracy =  0.7707509881422925\n",
      "epoch =  3300  current loss =  0.4722215235233307  accuracy =  0.7707509881422925\n",
      "epoch =  3400  current loss =  0.4721779525279999  accuracy =  0.7707509881422925\n",
      "epoch =  3500  current loss =  0.47213825583457947  accuracy =  0.7707509881422925\n",
      "epoch =  3600  current loss =  0.4721021056175232  accuracy =  0.7707509881422925\n",
      "epoch =  3700  current loss =  0.47206905484199524  accuracy =  0.7707509881422925\n",
      "epoch =  3800  current loss =  0.4720388650894165  accuracy =  0.7707509881422925\n",
      "epoch =  3900  current loss =  0.47201114892959595  accuracy =  0.7707509881422925\n",
      "epoch =  4000  current loss =  0.47198575735092163  accuracy =  0.7707509881422925\n",
      "epoch =  4100  current loss =  0.4719623327255249  accuracy =  0.769433465085639\n",
      "epoch =  4200  current loss =  0.47194087505340576  accuracy =  0.769433465085639\n",
      "epoch =  4300  current loss =  0.47192108631134033  accuracy =  0.769433465085639\n",
      "epoch =  4400  current loss =  0.47190284729003906  accuracy =  0.769433465085639\n",
      "epoch =  4500  current loss =  0.4718859791755676  accuracy =  0.769433465085639\n",
      "epoch =  4600  current loss =  0.47187042236328125  accuracy =  0.769433465085639\n",
      "epoch =  4700  current loss =  0.47185611724853516  accuracy =  0.769433465085639\n",
      "epoch =  4800  current loss =  0.47184285521507263  accuracy =  0.769433465085639\n",
      "epoch =  4900  current loss =  0.4718305468559265  accuracy =  0.769433465085639\n",
      "epoch =  5000  current loss =  0.471819132566452  accuracy =  0.769433465085639\n"
     ]
    }
   ],
   "source": [
    "train_loss_list = []\n",
    "train_accuracy_list = []\n",
    "\n",
    "nums_epoch = 5000\n",
    "\n",
    "for epoch in range(nums_epoch+1):\n",
    "\n",
    "    outputs = model(x_train)\n",
    "\n",
    "    loss = loss_function(outputs, y_train)\n",
    "\n",
    "    train_loss_list.append(loss.item())\n",
    "\n",
    "    prediction = outputs > 0.5\n",
    "    correct = (prediction.float() == y_train)\n",
    "    accuracy = correct.sum().item() / len(correct)\n",
    "\n",
    "    train_accuracy_list.append(accuracy)\n",
    "\n",
    "    optimizer.zero_grad()\n",
    "    loss.backward()\n",
    "    optimizer.step()\n",
    "\n",
    "    if epoch % 100 == 0:\n",
    "        print('epoch = ', epoch, ' current loss = ', loss.item(), ' accuracy = ', accuracy)"
   ]
  },
  {
   "cell_type": "code",
   "execution_count": 25,
   "metadata": {
    "colab": {
     "base_uri": "https://localhost:8080/"
    },
    "id": "fr-DUUS0tfXR",
    "outputId": "b36f116e-2c08-4268-e1f3-104e0dedf165"
   },
   "outputs": [
    {
     "name": "stdout",
     "output_type": "stream",
     "text": [
      "logistic_stack Parameter containing:\n",
      "tensor([[-0.8935, -3.5647,  0.2989, -0.5582, -0.3369, -2.4897, -0.9916, -0.0863]],\n",
      "       requires_grad=True)\n",
      "logistic_stack Parameter containing:\n",
      "tensor([0.1669], requires_grad=True)\n"
     ]
    }
   ],
   "source": [
    "for name, child in model.named_children():\n",
    "    for param in child.parameters():\n",
    "        print(name, param)"
   ]
  },
  {
   "cell_type": "code",
   "execution_count": 26,
   "metadata": {
    "colab": {
     "base_uri": "https://localhost:8080/"
    },
    "id": "Y19m8tYLCQKD",
    "outputId": "deed7809-d1c0-414a-839b-e790ebe5bfb9"
   },
   "outputs": [
    {
     "name": "stdout",
     "output_type": "stream",
     "text": [
      "Parameter containing:\n",
      "tensor([[-0.8935, -3.5647,  0.2989, -0.5582, -0.3369, -2.4897, -0.9916, -0.0863]],\n",
      "       requires_grad=True)\n",
      "Parameter containing:\n",
      "tensor([0.1669], requires_grad=True)\n"
     ]
    }
   ],
   "source": [
    "for param in model.parameters():\n",
    "    print(param)"
   ]
  },
  {
   "cell_type": "markdown",
   "metadata": {
    "id": "uZArJnFvwk9Y"
   },
   "source": [
    "# 손실 및 정확도 추세"
   ]
  },
  {
   "cell_type": "code",
   "execution_count": 27,
   "metadata": {
    "colab": {
     "base_uri": "https://localhost:8080/",
     "height": 472
    },
    "id": "8tkzr0NZxE-D",
    "outputId": "ac9aa09f-da50-4dd2-983e-a5a2f2a28420"
   },
   "outputs": [
    {
     "data": {
      "image/png": "[encoded data removed]",
      "text/plain": [
       "<Figure size 640x480 with 1 Axes>"
      ]
     },
     "metadata": {},
     "output_type": "display_data"
    }
   ],
   "source": [
    "import matplotlib.pyplot as plt\n",
    "\n",
    "plt.title('Loss Trend')\n",
    "plt.xlabel('epochs')\n",
    "plt.ylabel('loss')\n",
    "plt.grid()\n",
    "\n",
    "plt.plot(train_loss_list, label='train loss')\n",
    "plt.legend(loc='best')\n",
    "\n",
    "plt.show()"
   ]
  },
  {
   "cell_type": "code",
   "execution_count": 28,
   "metadata": {
    "colab": {
     "base_uri": "https://localhost:8080/",
     "height": 472
    },
    "id": "jHOdmJqUuMoh",
    "outputId": "f049ad0c-9ebd-42c7-d22e-099f2c6d4c28"
   },
   "outputs": [
    {
     "data": {
      "image/png": "[encoded data removed]",
      "text/plain": [
       "<Figure size 640x480 with 1 Axes>"
      ]
     },
     "metadata": {},
     "output_type": "display_data"
    }
   ],
   "source": [
    "import matplotlib.pyplot as plt\n",
    "\n",
    "plt.title('Accuracy Trend')\n",
    "plt.xlabel('epochs')\n",
    "plt.ylabel('accuracy')\n",
    "plt.grid()\n",
    "\n",
    "plt.plot(train_accuracy_list, label='train accuracy')\n",
    "plt.legend(loc='best')\n",
    "\n",
    "plt.show()"
   ]
  },
  {
   "cell_type": "code",
   "execution_count": null,
   "metadata": {
    "id": "UKU7SHyYVk8f"
   },
   "outputs": [],
   "source": []
  },
  {
   "cell_type": "code",
   "execution_count": null,
   "metadata": {},
   "outputs": [],
   "source": []
  },
  {
   "cell_type": "code",
   "execution_count": null,
   "metadata": {},
   "outputs": [],
   "source": []
  }
 ],
 "metadata": {
  "colab": {
   "provenance": []
  },
  "kernelspec": {
   "display_name": "Python 3 (ipykernel)",
   "language": "python",
   "name": "python3"
  },
  "language_info": {
   "codemirror_mode": {
    "name": "ipython",
    "version": 3
   },
   "file_extension": ".py",
   "mimetype": "text/x-python",
   "name": "python",
   "nbconvert_exporter": "python",
   "pygments_lexer": "ipython3",
   "version": "3.12.7"
  }
 },
 "nbformat": 4,
 "nbformat_minor": 4
}
