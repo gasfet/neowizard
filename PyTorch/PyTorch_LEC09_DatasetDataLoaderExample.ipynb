{
 "cells": [
  {
   "cell_type": "markdown",
   "metadata": {
    "id": "v6dyxUozWQ2l"
   },
   "source": [
    "# Dataset 정의"
   ]
  },
  {
   "cell_type": "code",
   "execution_count": 4,
   "metadata": {
    "id": "2POUpZnRfx1z"
   },
   "outputs": [
    {
     "name": "stdout",
     "output_type": "stream",
     "text": [
      "tensor([[1.],\n",
      "        [2.],\n",
      "        [3.],\n",
      "        [4.],\n",
      "        [5.],\n",
      "        [6.]])\n",
      "tensor([[3.],\n",
      "        [4.],\n",
      "        [5.],\n",
      "        [6.],\n",
      "        [7.],\n",
      "        [8.]])\n"
     ]
    }
   ],
   "source": [
    "import torch\n",
    "\n",
    "x_train = torch.Tensor([1, 2, 3, 4, 5, 6]).view(6,1)\n",
    "y_train = torch.Tensor([3, 4, 5, 6, 7, 8]).view(6,1)\n",
    "print(x_train)\n",
    "print(y_train)"
   ]
  },
  {
   "cell_type": "code",
   "execution_count": 5,
   "metadata": {
    "id": "FdFP5Xkj59ZJ"
   },
   "outputs": [],
   "source": [
    "from torch.utils.data import Dataset, DataLoader\n",
    "\n",
    "class CustomDataset(Dataset):\n",
    "\n",
    "    def __init__(self, x_train, y_train):\n",
    "        self.x_train = x_train\n",
    "        self.y_train = y_train\n",
    "\n",
    "    def __getitem__(self, index):\n",
    "        return self.x_train[index], self.y_train[index]\n",
    "\n",
    "    def __len__(self):\n",
    "        return self.x_train.shape[0]"
   ]
  },
  {
   "cell_type": "markdown",
   "metadata": {
    "id": "EfOFV_5EBjzG"
   },
   "source": [
    "# Dataset 인스턴스 / DataLoader 인스턴스 생성"
   ]
  },
  {
   "cell_type": "code",
   "execution_count": 6,
   "metadata": {
    "id": "bHdgMr-K7DP3"
   },
   "outputs": [],
   "source": [
    "dataset = CustomDataset(x_train, y_train)\n",
    "\n",
    "train_loader = DataLoader(dataset=dataset, batch_size=3, shuffle=True)"
   ]
  },
  {
   "cell_type": "code",
   "execution_count": 7,
   "metadata": {
    "colab": {
     "base_uri": "https://localhost:8080/"
    },
    "id": "vHG1MoRBLXVM",
    "outputId": "95c84fc8-8b9b-4ad4-d3d6-061322424342"
   },
   "outputs": [
    {
     "name": "stdout",
     "output_type": "stream",
     "text": [
      "2\n"
     ]
    }
   ],
   "source": [
    "total_batch = len(train_loader)\n",
    "\n",
    "print(total_batch)"
   ]
  },
  {
   "cell_type": "markdown",
   "metadata": {
    "id": "XnPf1NiGWZ2n"
   },
   "source": [
    "# 신경망 모델 구축"
   ]
  },
  {
   "cell_type": "code",
   "execution_count": 9,
   "metadata": {
    "id": "VhOa5OFRDpIX"
   },
   "outputs": [],
   "source": [
    "from torch import nn\n",
    "\n",
    "class MyLinearRegressionModel(nn.Module):\n",
    "\n",
    "    def __init__(self):\n",
    "        super().__init__()\n",
    "        self.linear_stack = nn.Sequential(\n",
    "            nn.Linear(1, 1)\n",
    "        )\n",
    "\n",
    "    def forward(self, data):\n",
    "        prediction = self.linear_stack(data)\n",
    "\n",
    "        return prediction"
   ]
  },
  {
   "cell_type": "markdown",
   "metadata": {
    "id": "9j_l0lmvzJI6"
   },
   "source": [
    "# 모델 생성"
   ]
  },
  {
   "cell_type": "code",
   "execution_count": 10,
   "metadata": {
    "id": "aKUZISGQzIlU"
   },
   "outputs": [],
   "source": [
    "model = MyLinearRegressionModel()"
   ]
  },
  {
   "cell_type": "markdown",
   "metadata": {
    "id": "sLxVJHH2XvUi"
   },
   "source": [
    "# 손실함수 및 옵티마이저 설정"
   ]
  },
  {
   "cell_type": "code",
   "execution_count": 11,
   "metadata": {
    "id": "tbLGmwCPrY3f"
   },
   "outputs": [],
   "source": [
    "loss_function = nn.MSELoss()\n",
    "\n",
    "optimizer = torch.optim.SGD(model.parameters(), lr=1e-2)"
   ]
  },
  {
   "cell_type": "code",
   "execution_count": 9,
   "metadata": {
    "colab": {
     "base_uri": "https://localhost:8080/"
    },
    "id": "6vRdl-8d_9S3",
    "outputId": "863a272f-65e0-4916-e35f-9de1a567e455"
   },
   "outputs": [
    {
     "name": "stdout",
     "output_type": "stream",
     "text": [
      "==============================================\n",
      "epoch = 1 , batch_idx = 1 , 3 3 3\n",
      "==============================================\n",
      "==============================================\n",
      "epoch = 1 , batch_idx = 2 , 3 3 3\n",
      "==============================================\n",
      "==============================================\n",
      "epoch = 2 , batch_idx = 1 , 3 3 3\n",
      "==============================================\n",
      "==============================================\n",
      "epoch = 2 , batch_idx = 2 , 3 3 3\n",
      "==============================================\n"
     ]
    }
   ],
   "source": [
    "for epoch in range(2):\n",
    "\n",
    "    for idx, batch_data in enumerate(train_loader):\n",
    "\n",
    "        x_train_batch, y_train_batch = batch_data\n",
    "\n",
    "        output_batch = model(x_train_batch)\n",
    "\n",
    "        print('==============================================')\n",
    "        print('epoch =', epoch+1, ', batch_idx =', idx+1, ',',\n",
    "              len(x_train_batch), len(y_train_batch), len(output_batch))\n",
    "        print('==============================================')\n",
    "\n",
    "        loss = loss_function(output_batch, y_train_batch)\n",
    "\n",
    "        optimizer.zero_grad()\n",
    "        loss.backward()\n",
    "        optimizer.step()"
   ]
  },
  {
   "cell_type": "code",
   "execution_count": null,
   "metadata": {
    "id": "gTDQMtdOzPpT"
   },
   "outputs": [],
   "source": []
  }
 ],
 "metadata": {
  "colab": {
   "provenance": []
  },
  "kernelspec": {
   "display_name": "Python 3 (ipykernel)",
   "language": "python",
   "name": "python3"
  },
  "language_info": {
   "codemirror_mode": {
    "name": "ipython",
    "version": 3
   },
   "file_extension": ".py",
   "mimetype": "text/x-python",
   "name": "python",
   "nbconvert_exporter": "python",
   "pygments_lexer": "ipython3",
   "version": "3.12.7"
  }
 },
 "nbformat": 4,
 "nbformat_minor": 4
}
